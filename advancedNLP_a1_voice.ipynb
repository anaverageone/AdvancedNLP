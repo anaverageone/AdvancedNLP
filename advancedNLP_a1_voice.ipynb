{
 "cells": [
  {
   "cell_type": "markdown",
   "id": "8167b36c-0309-4e74-aa83-40b7ed8f360e",
   "metadata": {},
   "source": [
    "# Feature Extraction - \"Voice\""
   ]
  },
  {
   "cell_type": "markdown",
   "id": "7da016ef-6e17-4a4e-b8cd-2041c67cf6a3",
   "metadata": {},
   "source": [
    "### Advanced NLP, Assignment 1, 16 February, 2023\n",
    "### Group 3, Cecilia Kuan\n",
    "\n",
    "INSTRUCTION:\n",
    "\n",
    "Please ensure that spaCy is installed locally with the data 'en_core_web_sm downloaded, also locally.\n",
    "\n",
    "To get the feature extraction output, please go to the menu bar, select \"Run\", then \"Run All Cells\".  Output will be listed at the end of the notebook.\n",
    "\n",
    "Output: \n",
    "- the Head word of the passive sentence,\n",
    "- a list of dictionaries of tokens in the passive sentence.  Dictionary includes the PoS tags, the marker of \"passive\" voice will be included in the dictionary of head word along the PoS tag."
   ]
  },
  {
   "cell_type": "code",
   "execution_count": 5,
   "id": "617a918b-8783-47b4-90dd-bc4741bcf996",
   "metadata": {},
   "outputs": [],
   "source": [
    "import spacy"
   ]
  },
  {
   "cell_type": "code",
   "execution_count": 6,
   "id": "2cf9af98-9e2d-4f78-8a2e-4dc559342913",
   "metadata": {},
   "outputs": [],
   "source": [
    "nlp = spacy.load('en_core_web_sm')"
   ]
  },
  {
   "cell_type": "code",
   "execution_count": 7,
   "id": "9e5716c0-ca36-48aa-8c81-c2394e28ab07",
   "metadata": {},
   "outputs": [],
   "source": [
    "test_sent = 'When I came round the balcony he had reached the end of the farther corridor, and I could see from the glimmer of light through an open door that he had entered one of the rooms. When i said that you stimulated me I meant, to be frank, that in noting your fallacies I was occasionally guided towards the truth.'\n",
    "#'Several traders shook their heads when the new flashed'"
   ]
  },
  {
   "cell_type": "code",
   "execution_count": 8,
   "id": "e75eaa82-3602-4ba6-9aca-51bb593d769a",
   "metadata": {
    "tags": []
   },
   "outputs": [
    {
     "name": "stdout",
     "output_type": "stream",
     "text": [
      "FEATURE EXTRACTION OUTOPUT::\n",
      "\n",
      "Token head of passive sentence: guided\n",
      "\n",
      "List of dictionaries of token and PoS tags. The sentence with the passive voice will be noted in the dictionary of the head of the sentence.\n",
      "\n",
      "[{'token': 'When', 'pos': 'SCONJ'}, {'token': 'I', 'pos': 'PRON'}, {'token': 'came', 'pos': 'VERB'}, {'token': 'round', 'pos': 'ADP'}, {'token': 'the', 'pos': 'DET'}, {'token': 'balcony', 'pos': 'NOUN'}, {'token': 'he', 'pos': 'PRON'}, {'token': 'had', 'pos': 'AUX'}, {'token': 'reached', 'pos': 'VERB'}, {'token': 'the', 'pos': 'DET'}, {'token': 'end', 'pos': 'NOUN'}, {'token': 'of', 'pos': 'ADP'}, {'token': 'the', 'pos': 'DET'}, {'token': 'farther', 'pos': 'ADV'}, {'token': 'corridor', 'pos': 'NOUN'}, {'token': ',', 'pos': 'PUNCT'}, {'token': 'and', 'pos': 'CCONJ'}, {'token': 'I', 'pos': 'PRON'}, {'token': 'could', 'pos': 'AUX'}, {'token': 'see', 'pos': 'VERB'}, {'token': 'from', 'pos': 'ADP'}, {'token': 'the', 'pos': 'DET'}, {'token': 'glimmer', 'pos': 'NOUN'}, {'token': 'of', 'pos': 'ADP'}, {'token': 'light', 'pos': 'NOUN'}, {'token': 'through', 'pos': 'ADP'}, {'token': 'an', 'pos': 'DET'}, {'token': 'open', 'pos': 'ADJ'}, {'token': 'door', 'pos': 'NOUN'}, {'token': 'that', 'pos': 'PRON'}, {'token': 'he', 'pos': 'PRON'}, {'token': 'had', 'pos': 'AUX'}, {'token': 'entered', 'pos': 'VERB'}, {'token': 'one', 'pos': 'NUM'}, {'token': 'of', 'pos': 'ADP'}, {'token': 'the', 'pos': 'DET'}, {'token': 'rooms', 'pos': 'NOUN'}, {'token': '.', 'pos': 'PUNCT'}, {'token': 'When', 'pos': 'SCONJ'}, {'token': 'i', 'pos': 'PRON'}, {'token': 'said', 'pos': 'VERB'}, {'token': 'that', 'pos': 'SCONJ'}, {'token': 'you', 'pos': 'PRON'}, {'token': 'stimulated', 'pos': 'VERB'}, {'token': 'me', 'pos': 'PRON'}, {'token': 'I', 'pos': 'PRON'}, {'token': 'meant', 'pos': 'VERB'}, {'token': ',', 'pos': 'PUNCT'}, {'token': 'to', 'pos': 'PART'}, {'token': 'be', 'pos': 'AUX'}, {'token': 'frank', 'pos': 'ADJ'}, {'token': ',', 'pos': 'PUNCT'}, {'token': 'that', 'pos': 'SCONJ'}, {'token': 'in', 'pos': 'ADP'}, {'token': 'noting', 'pos': 'VERB'}, {'token': 'your', 'pos': 'PRON'}, {'token': 'fallacies', 'pos': 'NOUN'}, {'token': 'I', 'pos': 'PRON'}, {'token': 'was', 'pos': 'AUX'}, {'token': 'occasionally', 'pos': 'ADV'}, {'token': 'guided', 'pos': 'VERB passive'}, {'token': 'towards', 'pos': 'ADP'}, {'token': 'the', 'pos': 'DET'}, {'token': 'truth', 'pos': 'NOUN'}, {'token': '.', 'pos': 'PUNCT'}]\n"
     ]
    }
   ],
   "source": [
    "text = test_sent\n",
    "doc = nlp(text)\n",
    "\n",
    "targets = []\n",
    "data = []\n",
    "token_head = None\n",
    "\n",
    "sents_list = list(doc.sents)\n",
    "\n",
    "for sent in doc.sents:\n",
    "    for t in sent:\n",
    "        token = t.text\n",
    "        feature_dict = {'token':token}\n",
    "        data.append(feature_dict)\n",
    "        \n",
    "        # add PoS tags\n",
    "        feature_dict['pos'] = t.pos_\n",
    "\n",
    "        # add voice\n",
    "        if t.dep_ == 'nsubjpass':\n",
    "            token_head = t.head\n",
    "            print(\"FEATURE EXTRACTION OUTOPUT::\")\n",
    "            print()\n",
    "            print(\"Token head of passive sentence:\",token_head)\n",
    "            print()\n",
    "        \n",
    "        if t == token_head:\n",
    "            feature_dict['pos'] = t.pos_+' passive'\n",
    "\n",
    "                \n",
    "print(\"List of dictionaries of token and PoS tags. The sentence with the passive voice will be noted in the dictionary of the head of the sentence.\")\n",
    "print()\n",
    "print(data)\n",
    "\n",
    "\n",
    "#         next_token = token.nbor() \n",
    "#         #print(\"token, DEP, next token, next token DEP, next token lemma:\", token.text, token.dep_, token.nbor(), next_token.dep_, next_token.lemma_)\n",
    "\n",
    "#         if token.dep_ == 'nsubjpass' and next_token.lemma_ == 'be':\n",
    "#             print(\"token, DEP, next token, next_token.lemma_ :\", token.text, token.dep_, token.nbor(), next_token.lemma_, token.)\n",
    "#             print(\"sent index:\", sent.index(token))\n"
   ]
  }
 ],
 "metadata": {
  "kernelspec": {
   "display_name": "Python 3 (ipykernel)",
   "language": "python",
   "name": "python3"
  },
  "language_info": {
   "codemirror_mode": {
    "name": "ipython",
    "version": 3
   },
   "file_extension": ".py",
   "mimetype": "text/x-python",
   "name": "python",
   "nbconvert_exporter": "python",
   "pygments_lexer": "ipython3",
   "version": "3.9.12"
  }
 },
 "nbformat": 4,
 "nbformat_minor": 5
}
