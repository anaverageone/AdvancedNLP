{
 "cells": [
  {
   "cell_type": "code",
   "execution_count": 1,
   "id": "aa4757c4",
   "metadata": {},
   "outputs": [],
   "source": [
    "# Import dependencies\n",
    "import pandas as pd"
   ]
  },
  {
   "cell_type": "code",
   "execution_count": 2,
   "id": "ae077739",
   "metadata": {},
   "outputs": [],
   "source": [
    "# Define header names for the column\n",
    "header = ['ID','FORM','LEMMA','UPOS','XPOS','FEATS','HEAD','DEPREL','DEPS','MISC','UP:PRED','UP:ARGHEADS_1','UP:ARGHEADS_2','UP:ARGHEADS_3','UP:ARGHEADS_4','UP:ARGHEADS_5','UP:ARGHEADS_6','UP:ARGHEADS_7','UP:ARGHEADS_8','UP:ARGHEADS_9','UP:ARGHEADS_10','UP:ARGHEADS_11','UP:ARGHEADS_12','UP:ARGHEADS_13','UP:ARGHEADS_14','UP:ARGHEADS_15','UP:ARGHEADS_16','UP:ARGHEADS_17','UP:ARGHEADS_18','UP:ARGHEADS_19','UP:ARGHEADS_20','UP:ARGHEADS_21','UP:ARGHEADS_22','UP:ARGHEADS_23','UP:ARGHEADS_24','UP:ARGHEADS_25','UP:ARGHEADS_26','UP:ARGHEADS_27','UP:ARGHEADS_28','UP:ARGHEADS_29','UP:ARGHEADS_30','UP:ARGHEADS_31','UP:ARGHEADS_32','UP:ARGHEADS_33','UP:ARGHEADS_34','UP:ARGHEADS_35']\n",
    "\n",
    "train_path = '../data/train_split.tsv'"
   ]
  },
  {
   "cell_type": "code",
   "execution_count": 3,
   "id": "c8429539",
   "metadata": {},
   "outputs": [
    {
     "name": "stderr",
     "output_type": "stream",
     "text": [
      "/var/folders/jz/x25r1rcd0pbg7q0nld0pn0b00000gn/T/ipykernel_1328/2551636496.py:2: ParserWarning: Falling back to the 'python' engine because ord(quotechar) > 127, meaning the quotechar is larger than one byte, and the 'c' engine does not support such quotechars; you can avoid this warning by specifying engine='python'.\n",
      "  df_train = pd.read_csv(train_path, sep='\\t', encoding='utf-8',quotechar='№')\n"
     ]
    }
   ],
   "source": [
    "# Open file with pandas\n",
    "df_train = pd.read_csv(train_path, sep='\\t', encoding='utf-8',quotechar='№')\n",
    "# print(df_train)"
   ]
  },
  {
   "cell_type": "code",
   "execution_count": 4,
   "id": "9968d01d",
   "metadata": {},
   "outputs": [],
   "source": [
    "def extract_head_info(df):\n",
    "    \"\"\"\n",
    "    Function to extract head information (lemma and XPOS) for all tokens in the DataFrame.\n",
    "\n",
    "    param:df:pandas.core.frame.DataFrame\n",
    "\n",
    "    returns:pandas.core.series.Series\n",
    "    \"\"\"\n",
    "    features_list = []\n",
    "    for i in range(len(df)):\n",
    "        lemma = df.loc[i, 'LEMMA']\n",
    "        head = int(df.loc[i, 'HEAD'])\n",
    "        xpos = df.loc[i, 'XPOS']\n",
    "        token = df.loc[i, 'FORM']\n",
    "        \n",
    "        if head == 0:\n",
    "            head_lemma = 'ROOT'\n",
    "            head_pos = 'ROOT'\n",
    "        else:\n",
    "            head_lemma = df.loc[head - 1, 'LEMMA']\n",
    "            head_pos = df.loc[head - 1, 'XPOS']\n",
    "        \n",
    "        head_lemma_pos = f\"{head_lemma}_{head_pos}\"\n",
    "        nested_dict = {'token': token, 'head_lemma_pos': head_lemma_pos}\n",
    "        features_list.append(nested_dict)\n",
    "    return features_list"
   ]
  },
  {
   "cell_type": "code",
   "execution_count": 5,
   "id": "5e76e56b",
   "metadata": {},
   "outputs": [],
   "source": [
    "def extract_governing_category(row):\n",
    "    \"\"\"\n",
    "    Function to extract the governing category of the token based on row of dataframe of the token.\n",
    "\n",
    "    param:row:pandas.core.series.Series\n",
    "\n",
    "    returns:governing category of the token:str\n",
    "    \"\"\"\n",
    "    deprel = row['DEPREL']\n",
    "    if deprel == 'nsubj':\n",
    "        return 'nsubj'\n",
    "    elif deprel == 'dobj':\n",
    "        return 'dobj'\n",
    "    else:\n",
    "        return '0'"
   ]
  },
  {
   "cell_type": "code",
   "execution_count": 6,
   "id": "09e7b0d1",
   "metadata": {},
   "outputs": [],
   "source": [
    "def extract_position_to_pred(row, predicate_positions):\n",
    "    \"\"\"\n",
    "    Function to extract position of the token relative to the predicate based on row of dataframe of the token.\n",
    "\n",
    "    param:row:pandas.core.series.Series\n",
    "    param:predicate_positions:set\n",
    "\n",
    "    returns:position of the token relative to the predicate:str\n",
    "    \"\"\"\n",
    "    if row.name in predicate_positions:\n",
    "        return 'predicate'\n",
    "    elif any(j in predicate_positions for j in range(row.name+1, len(df))):\n",
    "        return 'after'\n",
    "    else:\n",
    "        return 'before'"
   ]
  },
  {
   "cell_type": "code",
   "execution_count": 7,
   "id": "c55f47ec",
   "metadata": {},
   "outputs": [],
   "source": [
    "def create_nested_dict_list(df):\n",
    "    \"\"\"\n",
    "    Function to combine head information, governing category, and position to predicate for all tokens in the DataFrame into a nested dictionary.\n",
    "\n",
    "    param:df:pandas.core.frame.DataFrame\n",
    "\n",
    "    returns:list of nested dictionaries\n",
    "    \"\"\"\n",
    "    # Get predicate positions for all sentences\n",
    "    predicate_positions = set(df[df['UP:PRED'] != '_'].index)\n",
    "\n",
    "    nested_dict_list = df.apply(lambda row: {'token': row['FORM'],\n",
    "                                               'head_lemma_pos': extract_head_info(df),\n",
    "                                               'position-to-pred': extract_position_to_pred(row, predicate_positions),\n",
    "                                               'governing_category': extract_governing_category(row)},\n",
    "                                  axis=1).tolist()\n",
    "    return nested_dict_list"
   ]
  },
  {
   "cell_type": "code",
   "execution_count": null,
   "id": "bdb5e91d",
   "metadata": {},
   "outputs": [],
   "source": [
    "# Apply create_nested_dict_list function\n",
    "df = df_train\n",
    "nested_dict_list = create_nested_dict_list(df_train)"
   ]
  },
  {
   "cell_type": "code",
   "execution_count": null,
   "id": "32df081a",
   "metadata": {},
   "outputs": [],
   "source": [
    "print(nested_dict_list[:100])"
   ]
  }
 ],
 "metadata": {
  "kernelspec": {
   "display_name": "Python 3 (ipykernel)",
   "language": "python",
   "name": "python3"
  },
  "language_info": {
   "codemirror_mode": {
    "name": "ipython",
    "version": 3
   },
   "file_extension": ".py",
   "mimetype": "text/x-python",
   "name": "python",
   "nbconvert_exporter": "python",
   "pygments_lexer": "ipython3",
   "version": "3.9.13"
  }
 },
 "nbformat": 4,
 "nbformat_minor": 5
}
