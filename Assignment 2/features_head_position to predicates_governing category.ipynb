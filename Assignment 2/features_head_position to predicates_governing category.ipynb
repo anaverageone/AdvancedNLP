{
 "cells": [
  {
   "cell_type": "markdown",
   "id": "62ea7047",
   "metadata": {},
   "source": [
    "# Feature Extraction - \"Head word & its POS\", \"Position to predicate\", & \"Governing category\"\n",
    "\n",
    "# Advanced NLP, Assignment 2\n",
    "\n",
    "This notebook provides the code to extract head word of each token and its POS tag, position to predicate, and governing category\n",
    "\n",
    "Data: Universal Propositions Bank 1.0 English data\n",
    "\n",
    "The data used here is a small set of the entire data."
   ]
  },
  {
   "cell_type": "code",
   "execution_count": 3,
   "id": "031ce004",
   "metadata": {},
   "outputs": [],
   "source": [
    "# Import dependencies\n",
    "import pandas as pd"
   ]
  },
  {
   "cell_type": "code",
   "execution_count": 4,
   "id": "7f248c3b",
   "metadata": {},
   "outputs": [],
   "source": [
    "# Define header names for the column\n",
    "header = ['ID','FORM','LEMMA','UPOS','XPOS','FEATS','HEAD','DEPREL','DEPS','MISC','UP:PRED','UP:ARGHEADS_1','UP:ARGHEADS_2','UP:ARGHEADS_3','UP:ARGHEADS_4','UP:ARGHEADS_5','UP:ARGHEADS_6','UP:ARGHEADS_7','UP:ARGHEADS_8','UP:ARGHEADS_9','UP:ARGHEADS_10','UP:ARGHEADS_11','UP:ARGHEADS_12','UP:ARGHEADS_13','UP:ARGHEADS_14','UP:ARGHEADS_15','UP:ARGHEADS_16','UP:ARGHEADS_17','UP:ARGHEADS_18','UP:ARGHEADS_19','UP:ARGHEADS_20','UP:ARGHEADS_21','UP:ARGHEADS_22','UP:ARGHEADS_23','UP:ARGHEADS_24','UP:ARGHEADS_25','UP:ARGHEADS_26','UP:ARGHEADS_27','UP:ARGHEADS_28','UP:ARGHEADS_29','UP:ARGHEADS_30','UP:ARGHEADS_31','UP:ARGHEADS_32','UP:ARGHEADS_33','UP:ARGHEADS_34','UP:ARGHEADS_35']\n",
    "\n",
    "train_path = '../data/train_split.tsv'"
   ]
  },
  {
   "cell_type": "code",
   "execution_count": 5,
   "id": "a7b25b46",
   "metadata": {},
   "outputs": [
    {
     "name": "stderr",
     "output_type": "stream",
     "text": [
      "/var/folders/jz/x25r1rcd0pbg7q0nld0pn0b00000gn/T/ipykernel_2337/2551636496.py:2: ParserWarning: Falling back to the 'python' engine because ord(quotechar) > 127, meaning the quotechar is larger than one byte, and the 'c' engine does not support such quotechars; you can avoid this warning by specifying engine='python'.\n",
      "  df_train = pd.read_csv(train_path, sep='\\t', encoding='utf-8',quotechar='№')\n"
     ]
    }
   ],
   "source": [
    "# Open file with pandas\n",
    "df_train = pd.read_csv(train_path, sep='\\t', encoding='utf-8',quotechar='№')\n",
    "# print(df_train)"
   ]
  },
  {
   "cell_type": "code",
   "execution_count": 13,
   "id": "cf02ac52",
   "metadata": {},
   "outputs": [],
   "source": [
    "def extract_head_info(df):\n",
    "    \"\"\"\n",
    "    Function to extract head information (lemma and XPOS) for all tokens in the DataFrame.\n",
    "\n",
    "    param:df:pandas.core.frame.DataFrame\n",
    "\n",
    "    returns:pandas.core.series.Series\n",
    "    \"\"\"\n",
    "    features_list = []\n",
    "    for i in range(len(df)):\n",
    "        lemma = df.loc[i, 'LEMMA']\n",
    "        head = int(df.loc[i, 'HEAD'])\n",
    "        xpos = df.loc[i, 'XPOS']\n",
    "        token = df.loc[i, 'FORM']\n",
    "        \n",
    "        if head == 0:\n",
    "            head_lemma = 'ROOT'\n",
    "            head_pos = 'ROOT'\n",
    "        else:\n",
    "            head_lemma = df.loc[head - 1, 'LEMMA']\n",
    "            head_pos = df.loc[head - 1, 'XPOS']\n",
    "        \n",
    "        head_lemma_pos = f\"{head_lemma}_{head_pos}\"\n",
    "#         nested_dict = {'token': token, 'head_lemma_pos': head_lemma_pos}\n",
    "        features_list.append(head_lemma_pos)\n",
    "    return features_list\n",
    "\n",
    "# Apply the function\n",
    "head_info = extract_head_info(df_train)\n",
    "# Adding the output to the new column of dataframe first due to memory limitation\n",
    "df_train['head_info'] = extract_head_info(df_train)"
   ]
  },
  {
   "cell_type": "code",
   "execution_count": 15,
   "id": "0c6378ff",
   "metadata": {},
   "outputs": [],
   "source": [
    "def extract_governing_category(row):\n",
    "    \"\"\"\n",
    "    Function to extract the governing category of the token based on row of dataframe of the token.\n",
    "\n",
    "    param:row:pandas.core.series.Series\n",
    "\n",
    "    returns:governing category of the token:str\n",
    "    \"\"\"\n",
    "    deprel = row['DEPREL']\n",
    "    if deprel == 'nsubj':\n",
    "        return 'nsubj'\n",
    "    elif deprel == 'dobj':\n",
    "        return 'dobj'\n",
    "    else:\n",
    "        return '0'"
   ]
  },
  {
   "cell_type": "code",
   "execution_count": 16,
   "id": "f48e6d77",
   "metadata": {},
   "outputs": [],
   "source": [
    "def extract_position_to_pred(row, predicate_positions):\n",
    "    \"\"\"\n",
    "    Function to extract position of the token relative to the predicate based on row of dataframe of the token.\n",
    "\n",
    "    param:row:pandas.core.series.Series\n",
    "    param:predicate_positions:set\n",
    "\n",
    "    returns:position of the token relative to the predicate:str\n",
    "    \"\"\"\n",
    "    if row.name in predicate_positions:\n",
    "        return 'predicate'\n",
    "    elif any(j in predicate_positions for j in range(row.name+1, len(df))):\n",
    "        return 'after'\n",
    "    else:\n",
    "        return 'before'"
   ]
  },
  {
   "cell_type": "code",
   "execution_count": 17,
   "id": "9557f5f7",
   "metadata": {},
   "outputs": [],
   "source": [
    "def create_nested_dict_list(df):\n",
    "    \"\"\"\n",
    "    Function to combine head information, governing category, and position to predicate for all tokens in the DataFrame into a nested dictionary.\n",
    "\n",
    "    param:df:pandas.core.frame.DataFrame\n",
    "\n",
    "    returns:list of nested dictionaries\n",
    "    \"\"\"\n",
    "    # Get predicate positions for all sentences\n",
    "    predicate_positions = set(df[df['UP:PRED'] != '_'].index)\n",
    "\n",
    "    nested_dict_list = df.apply(lambda row: {'token': row['FORM'],\n",
    "                                               'head_lemma_pos': row['head_info'],\n",
    "                                               'position-to-pred': extract_position_to_pred(row, predicate_positions),\n",
    "                                               'governing_category': extract_governing_category(row)},\n",
    "                                  axis=1).tolist()\n",
    "    return nested_dict_list"
   ]
  },
  {
   "cell_type": "code",
   "execution_count": 18,
   "id": "c06d9f8a",
   "metadata": {},
   "outputs": [],
   "source": [
    "# Apply create_nested_dict_list function\n",
    "df = df_train\n",
    "nested_dict_list = create_nested_dict_list(df_train)"
   ]
  },
  {
   "cell_type": "code",
   "execution_count": 19,
   "id": "ca91bff6",
   "metadata": {},
   "outputs": [
    {
     "name": "stdout",
     "output_type": "stream",
     "text": [
      "[{'token': 'Al', 'head_lemma_pos': 'ROOT_ROOT', 'position-to-pred': 'after', 'governing_category': '0'}, {'token': '-', 'head_lemma_pos': 'Al_NNP', 'position-to-pred': 'after', 'governing_category': '0'}, {'token': 'Zaman', 'head_lemma_pos': 'Al_NNP', 'position-to-pred': 'after', 'governing_category': '0'}, {'token': ':', 'head_lemma_pos': 'Al_NNP', 'position-to-pred': 'after', 'governing_category': '0'}, {'token': 'American', 'head_lemma_pos': 'force_NNS', 'position-to-pred': 'after', 'governing_category': '0'}, {'token': 'forces', 'head_lemma_pos': 'kill_VBD', 'position-to-pred': 'after', 'governing_category': 'nsubj'}, {'token': 'killed', 'head_lemma_pos': 'Al_NNP', 'position-to-pred': 'predicate', 'governing_category': '0'}, {'token': 'Shaikh', 'head_lemma_pos': 'kill_VBD', 'position-to-pred': 'after', 'governing_category': '0'}, {'token': 'Abdullah', 'head_lemma_pos': 'Shaikh_NNP', 'position-to-pred': 'after', 'governing_category': '0'}, {'token': 'al', 'head_lemma_pos': 'Shaikh_NNP', 'position-to-pred': 'after', 'governing_category': '0'}, {'token': '-', 'head_lemma_pos': 'Shaikh_NNP', 'position-to-pred': 'after', 'governing_category': '0'}, {'token': 'Ani', 'head_lemma_pos': 'Shaikh_NNP', 'position-to-pred': 'after', 'governing_category': '0'}, {'token': ',', 'head_lemma_pos': 'Shaikh_NNP', 'position-to-pred': 'after', 'governing_category': '0'}, {'token': 'the', 'head_lemma_pos': 'preacher_NN', 'position-to-pred': 'after', 'governing_category': '0'}, {'token': 'preacher', 'head_lemma_pos': 'Shaikh_NNP', 'position-to-pred': 'after', 'governing_category': '0'}, {'token': 'at', 'head_lemma_pos': 'mosque_NN', 'position-to-pred': 'after', 'governing_category': '0'}, {'token': 'the', 'head_lemma_pos': 'mosque_NN', 'position-to-pred': 'after', 'governing_category': '0'}, {'token': 'mosque', 'head_lemma_pos': 'kill_VBD', 'position-to-pred': 'after', 'governing_category': '0'}, {'token': 'in', 'head_lemma_pos': 'town_NN', 'position-to-pred': 'after', 'governing_category': '0'}, {'token': 'the', 'head_lemma_pos': 'town_NN', 'position-to-pred': 'after', 'governing_category': '0'}, {'token': 'town', 'head_lemma_pos': 'mosque_NN', 'position-to-pred': 'after', 'governing_category': '0'}, {'token': 'of', 'head_lemma_pos': 'Qaim_NNP', 'position-to-pred': 'after', 'governing_category': '0'}, {'token': 'Qaim', 'head_lemma_pos': 'town_NN', 'position-to-pred': 'after', 'governing_category': '0'}, {'token': ',', 'head_lemma_pos': 'town_NN', 'position-to-pred': 'after', 'governing_category': '0'}, {'token': 'near', 'head_lemma_pos': 'border_NN', 'position-to-pred': 'after', 'governing_category': '0'}, {'token': 'the', 'head_lemma_pos': 'border_NN', 'position-to-pred': 'after', 'governing_category': '0'}, {'token': 'Syrian', 'head_lemma_pos': 'border_NN', 'position-to-pred': 'after', 'governing_category': '0'}, {'token': 'border', 'head_lemma_pos': 'town_NN', 'position-to-pred': 'after', 'governing_category': '0'}, {'token': '.', 'head_lemma_pos': 'Al_NNP', 'position-to-pred': 'after', 'governing_category': '0'}, {'token': '[', 'head_lemma_pos': 'al_NNP', 'position-to-pred': 'after', 'governing_category': '0'}, {'token': 'This', 'head_lemma_pos': 'Zaman_NNP', 'position-to-pred': 'after', 'governing_category': '0'}, {'token': 'killing', 'head_lemma_pos': 'al_NNP', 'position-to-pred': 'predicate', 'governing_category': 'nsubj'}, {'token': 'of', 'head_lemma_pos': 'kill_VBD', 'position-to-pred': 'after', 'governing_category': '0'}, {'token': 'a', 'head_lemma_pos': 'kill_VBD', 'position-to-pred': 'after', 'governing_category': '0'}, {'token': 'respected', 'head_lemma_pos': 'kill_VBD', 'position-to-pred': 'after', 'governing_category': '0'}, {'token': 'cleric', 'head_lemma_pos': 'Zaman_NNP', 'position-to-pred': 'after', 'governing_category': '0'}, {'token': 'will', 'head_lemma_pos': 'al_NNP', 'position-to-pred': 'after', 'governing_category': '0'}, {'token': 'be', 'head_lemma_pos': 'al_NNP', 'position-to-pred': 'after', 'governing_category': '0'}, {'token': 'causing', 'head_lemma_pos': 'ROOT_ROOT', 'position-to-pred': 'after', 'governing_category': '0'}, {'token': 'us', 'head_lemma_pos': 'al_NNP', 'position-to-pred': 'after', 'governing_category': '0'}, {'token': 'trouble', 'head_lemma_pos': 'al_NNP', 'position-to-pred': 'after', 'governing_category': '0'}, {'token': 'for', 'head_lemma_pos': 'the_DT', 'position-to-pred': 'after', 'governing_category': '0'}, {'token': 'years', 'head_lemma_pos': 'al_NNP', 'position-to-pred': 'after', 'governing_category': '0'}, {'token': 'to', 'head_lemma_pos': 'at_IN', 'position-to-pred': 'after', 'governing_category': '0'}, {'token': 'come', 'head_lemma_pos': 'the_DT', 'position-to-pred': 'after', 'governing_category': '0'}, {'token': '.', 'head_lemma_pos': 'al_NNP', 'position-to-pred': 'after', 'governing_category': '0'}, {'token': ']', 'head_lemma_pos': 'al_NNP', 'position-to-pred': 'after', 'governing_category': '0'}, {'token': '[', 'head_lemma_pos': 'al_NNP', 'position-to-pred': 'after', 'governing_category': '0'}, {'token': 'This', 'head_lemma_pos': 'Zaman_NNP', 'position-to-pred': 'after', 'governing_category': '0'}, {'token': 'killing', 'head_lemma_pos': 'al_NNP', 'position-to-pred': 'after', 'governing_category': 'nsubj'}, {'token': 'of', 'head_lemma_pos': 'kill_VBD', 'position-to-pred': 'after', 'governing_category': '0'}, {'token': 'a', 'head_lemma_pos': 'kill_VBD', 'position-to-pred': 'after', 'governing_category': '0'}, {'token': 'respected', 'head_lemma_pos': 'kill_VBD', 'position-to-pred': 'after', 'governing_category': '0'}, {'token': 'cleric', 'head_lemma_pos': 'Zaman_NNP', 'position-to-pred': 'after', 'governing_category': '0'}, {'token': 'will', 'head_lemma_pos': 'al_NNP', 'position-to-pred': 'after', 'governing_category': '0'}, {'token': 'be', 'head_lemma_pos': 'al_NNP', 'position-to-pred': 'predicate', 'governing_category': '0'}, {'token': 'causing', 'head_lemma_pos': 'ROOT_ROOT', 'position-to-pred': 'after', 'governing_category': '0'}, {'token': 'us', 'head_lemma_pos': 'al_NNP', 'position-to-pred': 'after', 'governing_category': '0'}, {'token': 'trouble', 'head_lemma_pos': 'al_NNP', 'position-to-pred': 'after', 'governing_category': '0'}, {'token': 'for', 'head_lemma_pos': 'the_DT', 'position-to-pred': 'after', 'governing_category': '0'}, {'token': 'years', 'head_lemma_pos': 'al_NNP', 'position-to-pred': 'after', 'governing_category': '0'}, {'token': 'to', 'head_lemma_pos': 'at_IN', 'position-to-pred': 'after', 'governing_category': '0'}, {'token': 'come', 'head_lemma_pos': 'the_DT', 'position-to-pred': 'after', 'governing_category': '0'}, {'token': '.', 'head_lemma_pos': 'al_NNP', 'position-to-pred': 'after', 'governing_category': '0'}, {'token': ']', 'head_lemma_pos': 'al_NNP', 'position-to-pred': 'after', 'governing_category': '0'}, {'token': '[', 'head_lemma_pos': 'al_NNP', 'position-to-pred': 'after', 'governing_category': '0'}, {'token': 'This', 'head_lemma_pos': 'Zaman_NNP', 'position-to-pred': 'after', 'governing_category': '0'}, {'token': 'killing', 'head_lemma_pos': 'al_NNP', 'position-to-pred': 'after', 'governing_category': 'nsubj'}, {'token': 'of', 'head_lemma_pos': 'kill_VBD', 'position-to-pred': 'after', 'governing_category': '0'}, {'token': 'a', 'head_lemma_pos': 'kill_VBD', 'position-to-pred': 'after', 'governing_category': '0'}, {'token': 'respected', 'head_lemma_pos': 'kill_VBD', 'position-to-pred': 'after', 'governing_category': '0'}, {'token': 'cleric', 'head_lemma_pos': 'Zaman_NNP', 'position-to-pred': 'after', 'governing_category': '0'}, {'token': 'will', 'head_lemma_pos': 'al_NNP', 'position-to-pred': 'after', 'governing_category': '0'}, {'token': 'be', 'head_lemma_pos': 'al_NNP', 'position-to-pred': 'after', 'governing_category': '0'}, {'token': 'causing', 'head_lemma_pos': 'ROOT_ROOT', 'position-to-pred': 'predicate', 'governing_category': '0'}, {'token': 'us', 'head_lemma_pos': 'al_NNP', 'position-to-pred': 'after', 'governing_category': '0'}, {'token': 'trouble', 'head_lemma_pos': 'al_NNP', 'position-to-pred': 'after', 'governing_category': '0'}, {'token': 'for', 'head_lemma_pos': 'the_DT', 'position-to-pred': 'after', 'governing_category': '0'}, {'token': 'years', 'head_lemma_pos': 'al_NNP', 'position-to-pred': 'after', 'governing_category': '0'}, {'token': 'to', 'head_lemma_pos': 'at_IN', 'position-to-pred': 'after', 'governing_category': '0'}, {'token': 'come', 'head_lemma_pos': 'the_DT', 'position-to-pred': 'after', 'governing_category': '0'}, {'token': '.', 'head_lemma_pos': 'al_NNP', 'position-to-pred': 'after', 'governing_category': '0'}, {'token': ']', 'head_lemma_pos': 'al_NNP', 'position-to-pred': 'after', 'governing_category': '0'}, {'token': '[', 'head_lemma_pos': 'al_NNP', 'position-to-pred': 'after', 'governing_category': '0'}, {'token': 'This', 'head_lemma_pos': 'Zaman_NNP', 'position-to-pred': 'after', 'governing_category': '0'}, {'token': 'killing', 'head_lemma_pos': 'al_NNP', 'position-to-pred': 'after', 'governing_category': 'nsubj'}, {'token': 'of', 'head_lemma_pos': 'kill_VBD', 'position-to-pred': 'after', 'governing_category': '0'}, {'token': 'a', 'head_lemma_pos': 'kill_VBD', 'position-to-pred': 'after', 'governing_category': '0'}, {'token': 'respected', 'head_lemma_pos': 'kill_VBD', 'position-to-pred': 'after', 'governing_category': '0'}, {'token': 'cleric', 'head_lemma_pos': 'Zaman_NNP', 'position-to-pred': 'after', 'governing_category': '0'}, {'token': 'will', 'head_lemma_pos': 'al_NNP', 'position-to-pred': 'after', 'governing_category': '0'}, {'token': 'be', 'head_lemma_pos': 'al_NNP', 'position-to-pred': 'after', 'governing_category': '0'}, {'token': 'causing', 'head_lemma_pos': 'ROOT_ROOT', 'position-to-pred': 'after', 'governing_category': '0'}, {'token': 'us', 'head_lemma_pos': 'al_NNP', 'position-to-pred': 'after', 'governing_category': '0'}, {'token': 'trouble', 'head_lemma_pos': 'al_NNP', 'position-to-pred': 'after', 'governing_category': '0'}, {'token': 'for', 'head_lemma_pos': 'the_DT', 'position-to-pred': 'after', 'governing_category': '0'}, {'token': 'years', 'head_lemma_pos': 'al_NNP', 'position-to-pred': 'after', 'governing_category': '0'}, {'token': 'to', 'head_lemma_pos': 'at_IN', 'position-to-pred': 'after', 'governing_category': '0'}, {'token': 'come', 'head_lemma_pos': 'the_DT', 'position-to-pred': 'predicate', 'governing_category': '0'}, {'token': '.', 'head_lemma_pos': 'al_NNP', 'position-to-pred': 'after', 'governing_category': '0'}]\n"
     ]
    }
   ],
   "source": [
    "print(nested_dict_list[:100])"
   ]
  }
 ],
 "metadata": {
  "kernelspec": {
   "display_name": "Python 3 (ipykernel)",
   "language": "python",
   "name": "python3"
  },
  "language_info": {
   "codemirror_mode": {
    "name": "ipython",
    "version": 3
   },
   "file_extension": ".py",
   "mimetype": "text/x-python",
   "name": "python",
   "nbconvert_exporter": "python",
   "pygments_lexer": "ipython3",
   "version": "3.9.13"
  }
 },
 "nbformat": 4,
 "nbformat_minor": 5
}
