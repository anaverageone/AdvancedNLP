{
 "cells": [
  {
   "attachments": {},
   "cell_type": "markdown",
   "metadata": {},
   "source": [
    "# CREATE CLASSIFIER"
   ]
  },
  {
   "cell_type": "code",
   "execution_count": null,
   "metadata": {},
   "outputs": [],
   "source": [
    "def create_classifier(train_features, train_targets):\n",
    "    '''\n",
    "    Function create and train the classifier with Logistic regression algorithm.\n",
    "    :param train_features: a list of dictionaries of features\n",
    "    :param train_targets: a list of gold annotations\n",
    "\n",
    "    :returns: trained model file and vectorizer file\n",
    "    '''\n",
    "    \n",
    "    vec = DictVectorizer(sparse=False)\n",
    "    \n",
    "    model = LogisticRegression(max_iter = 500)\n",
    "        \n",
    "    features_vectorized = vec.fit_transform(train_features)\n",
    "    # print(features_vectorized)\n",
    "    # print(type(features_vectorized))\n",
    "\n",
    "    print(\"creating classifier ...\")\n",
    "\n",
    "    model.fit(features_vectorized, train_targets) # vectorized training features, gold labels\n",
    "    return model, vec"
   ]
  }
 ],
 "metadata": {
  "kernelspec": {
   "display_name": "base",
   "language": "python",
   "name": "python3"
  },
  "language_info": {
   "name": "python",
   "version": "3.9.12"
  },
  "orig_nbformat": 4,
  "vscode": {
   "interpreter": {
    "hash": "40d3a090f54c6569ab1632332b64b2c03c39dcf918b08424e98f38b5ae0af88f"
   }
  }
 },
 "nbformat": 4,
 "nbformat_minor": 2
}
