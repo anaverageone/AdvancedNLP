{
 "cells": [
  {
   "cell_type": "markdown",
   "id": "e0bb05b0-2b4a-444e-9006-f403b831fb3d",
   "metadata": {},
   "source": [
    "* Predicate-head combo\n",
    "* Path (from constituent to root)\n",
    "* Distance( between constituent and predicate) & Predicate specified(TBD)"
   ]
  },
  {
   "cell_type": "code",
   "execution_count": 1,
   "id": "13db79c8-e595-46f0-930a-c0c4d13beb8e",
   "metadata": {},
   "outputs": [
    {
     "name": "stdout",
     "output_type": "stream",
     "text": [
      "C:\\Users\\anaverageone\\htlt_env\\Advanced_NLP\n"
     ]
    }
   ],
   "source": [
    "import os\n",
    "os.chdir(r'C:\\Users\\anaverageone\\htlt_env\\Advanced_NLP')\n",
    "print(os.getcwd())\n",
    "import pandas as pd\n",
    "import numpy as np"
   ]
  },
  {
   "cell_type": "code",
   "execution_count": null,
   "id": "563f148d-5df7-415d-9449-77a6d07cf65c",
   "metadata": {},
   "outputs": [
    {
     "name": "stderr",
     "output_type": "stream",
     "text": [
      "C:\\Users\\anaverageone\\AppData\\Local\\Temp\\ipykernel_13956\\123592276.py:4: ParserWarning: Falling back to the 'python' engine because ord(quotechar) > 127, meaning the quotechar is larger than one byte, and the 'c' engine does not support such quotechars; you can avoid this warning by specifying engine='python'.\n",
      "  train_df, test_df = pd.read_csv(train_path, sep='\\t', encoding='utf-8',quotechar='№'), pd.read_csv(test_path, sep='\\t', encoding='utf-8',quotechar='№')\n",
      "C:\\Users\\anaverageone\\AppData\\Local\\Temp\\ipykernel_13956\\123592276.py:4: ParserWarning: Falling back to the 'python' engine because ord(quotechar) > 127, meaning the quotechar is larger than one byte, and the 'c' engine does not support such quotechars; you can avoid this warning by specifying engine='python'.\n",
      "  train_df, test_df = pd.read_csv(train_path, sep='\\t', encoding='utf-8',quotechar='№'), pd.read_csv(test_path, sep='\\t', encoding='utf-8',quotechar='№')\n"
     ]
    }
   ],
   "source": [
    "# train_path = 'data/train_split.tsv'\n",
    "# header_split_df = ['Copy_ID','Sent_ID','ID','FORM','LEMMA','UPOS','XPOS','FEATS','HEAD','DEPREL','DEPS','MISC','UP:PRED','UP:ARGHEADS']\n",
    "train_path, test_path = 'data/train_split.tsv', 'data/test_split.tsv'\n",
    "train_df, test_df = pd.read_csv(train_path, sep='\\t', encoding='utf-8',quotechar='№'), pd.read_csv(test_path, sep='\\t', encoding='utf-8',quotechar='№')\n"
   ]
  },
  {
   "cell_type": "code",
   "execution_count": null,
   "id": "2d7f0004-dd6f-4c9c-9764-5f2ce60c9862",
   "metadata": {},
   "outputs": [],
   "source": [
    "train_df, test_df = train_df.astype({'Sent_ID':'int'}), test_df.astype({'Sent_ID':'int'})\n",
    "train_df, test_df = train_df.astype({'Copy_ID':'int'}), test_df.astype({'Copy_ID':'int'})\n",
    "train_df, test_df = train_df.astype({'ID':'int'}), test_df.astype({'ID':'int'})"
   ]
  },
  {
   "cell_type": "code",
   "execution_count": 14,
   "id": "b7b84e88-93fa-4ddc-8174-dea8ad63fb52",
   "metadata": {},
   "outputs": [],
   "source": [
    "train = train_df[:50]\n",
    "test = test_df[:50]"
   ]
  },
  {
   "cell_type": "code",
   "execution_count": 22,
   "id": "c6cc5f0a-4509-4686-ae32-11b285133d94",
   "metadata": {
    "tags": []
   },
   "outputs": [],
   "source": [
    "feature_dict_list = []\n",
    "copy_id_list = train['Copy_ID'].unique()\n",
    "\n",
    "for n in copy_id_list:\n",
    "    df_copy = train.loc[train['Copy_ID'] == n] # subset_df of train_df for each copy_id\n",
    "    max_wds_count = df_copy['ID'].max()\n",
    "        \n",
    "    for i in range(max_wds_count):\n",
    "        feature_dict = {}\n",
    "        paths = []\n",
    "        if i in df_copy.index:\n",
    "            head_ix = df_copy.at[i, 'HEAD']\n",
    "            dep_rel = df_copy.at[i, 'DEPREL']\n",
    "        else:\n",
    "                # handle the case where the row with index i does not exist\n",
    "            head_ix, dep_rel = '0' , '0'\n",
    "\n",
    "        if int(head_ix) == 0:\n",
    "            head_form = '0'\n",
    "        else:\n",
    "            head_form = df_copy.loc[(df_copy['ID'] == head_ix),'FORM'].squeeze()\n",
    "                \n",
    "            # predicate of current phrase\n",
    "            up_pred = df_copy.loc[(df_copy['UP:PRED'] != '_'),'FORM'].squeeze()\n",
    "\n",
    "            # Feature - predicate & head combination\n",
    "            feature_dict['PRED_HEAD']= up_pred + '_' + head_form\n",
    "            \n",
    "            # Feature - Path from constituent to root\n",
    "            while int(head_ix) != 0:\n",
    "                # head_ix = df_copy.loc[df_copy['ID'] == ,'HEAD'].squeeze()\n",
    "                head_ix = df_copy.loc[df_copy['ID'] == int(head_ix), 'HEAD']\n",
    "                if int(head_ix) == 0:\n",
    "                    dep_rel = 'root'\n",
    "                else:\n",
    "                    dep_rel = df_copy.loc[df_copy['ID'] == int(head_ix),'DEPREL'].squeeze()\n",
    "                paths.append(dep_rel)\n",
    "                paths = list(dict.fromkeys(paths))\n",
    "                \n",
    "            feature_dict['PATH']= paths\n",
    "            feature_dict_list.append(feature_dict)"
   ]
  },
  {
   "cell_type": "code",
   "execution_count": 23,
   "id": "90643b2c-5202-4e55-a7b4-7f7111e03947",
   "metadata": {},
   "outputs": [
    {
     "name": "stdout",
     "output_type": "stream",
     "text": [
      "[{'PRED_HEAD': 'killed_Al', 'PATH': ['root']}, {'PRED_HEAD': 'killed_Al', 'PATH': ['root']}, {'PRED_HEAD': 'killed_Al', 'PATH': ['root']}, {'PRED_HEAD': 'killed_forces', 'PATH': ['parataxis', 'root']}, {'PRED_HEAD': 'killed_killed', 'PATH': ['root']}, {'PRED_HEAD': 'killed_Al', 'PATH': ['root']}, {'PRED_HEAD': 'killed_killed', 'PATH': ['root']}, {'PRED_HEAD': 'killed_Shaikh', 'PATH': ['parataxis', 'root']}, {'PRED_HEAD': 'killed_Shaikh', 'PATH': ['parataxis', 'root']}, {'PRED_HEAD': 'killed_Shaikh', 'PATH': ['parataxis', 'root']}, {'PRED_HEAD': 'killed_Shaikh', 'PATH': ['parataxis', 'root']}, {'PRED_HEAD': 'killed_Shaikh', 'PATH': ['parataxis', 'root']}, {'PRED_HEAD': 'killed_preacher', 'PATH': ['obj', 'parataxis', 'root']}, {'PRED_HEAD': 'killed_Shaikh', 'PATH': ['parataxis', 'root']}, {'PRED_HEAD': 'killed_mosque', 'PATH': ['parataxis', 'root']}, {'PRED_HEAD': 'killed_mosque', 'PATH': ['parataxis', 'root']}, {'PRED_HEAD': 'killed_killed', 'PATH': ['root']}, {'PRED_HEAD': 'killed_town', 'PATH': ['obl', 'parataxis', 'root']}, {'PRED_HEAD': 'killed_town', 'PATH': ['obl', 'parataxis', 'root']}, {'PRED_HEAD': 'killed_mosque', 'PATH': ['parataxis', 'root']}, {'PRED_HEAD': 'killed_Qaim', 'PATH': ['nmod', 'obl', 'parataxis', 'root']}, {'PRED_HEAD': 'killed_town', 'PATH': ['obl', 'parataxis', 'root']}, {'PRED_HEAD': 'killed_town', 'PATH': ['obl', 'parataxis', 'root']}, {'PRED_HEAD': 'killed_border', 'PATH': ['nmod', 'obl', 'parataxis', 'root']}, {'PRED_HEAD': 'killed_border', 'PATH': ['nmod', 'obl', 'parataxis', 'root']}, {'PRED_HEAD': 'killed_border', 'PATH': ['nmod', 'obl', 'parataxis', 'root']}, {'PRED_HEAD': 'killed_town', 'PATH': ['obl', 'parataxis', 'root']}, {'PRED_HEAD': 'killed_Al', 'PATH': ['root']}]\n"
     ]
    }
   ],
   "source": [
    "print(feature_dict_list)"
   ]
  },
  {
   "cell_type": "code",
   "execution_count": 21,
   "id": "5af33158-4e79-4d47-9354-0655e8d495f6",
   "metadata": {},
   "outputs": [
    {
     "name": "stdout",
     "output_type": "stream",
     "text": [
      "<class 'list'>\n"
     ]
    }
   ],
   "source": [
    "mylist = [\"a\", \"b\", \"a\", \"c\", \"c\"]\n",
    "mylist = list(dict.fromkeys(mylist))\n",
    "print(type(mylist))"
   ]
  },
  {
   "cell_type": "code",
   "execution_count": null,
   "id": "2d9f7744-f967-4488-af96-9da49f70f05d",
   "metadata": {},
   "outputs": [],
   "source": [
    "# feature_dict_list = []\n",
    "# copy_id_list = test['Copy_ID'].unique()\n",
    "# for n in copy_id_list:\n",
    "#         df_copy = test.loc[test['Copy_ID'] == n]  # subset_df of train_df for each copy_id\n",
    "#         max_wds_count = df_copy['ID'].max()\n",
    "# #         df_copy['PATH'] = '0'\n",
    "        \n",
    "#         for i in range(max_wds_count):\n",
    "#             feature_dict = {}\n",
    "#             paths = []\n",
    "#             head_ix = df_copy.at[i, 'HEAD']\n",
    "#             dep_rel = df_copy.at[i, 'DEPREL'] \n",
    "#             paths.append(dep_rel)\n",
    "#             # dep_rel = \":\".join(list(filter(lambda x: x.isalpha(), df_copy.iloc[i]['DEPS'].split(\":\")))\n",
    "                \n",
    "#             while int(head_ix) != 0:\n",
    "#                 head_ix = df_copy.loc[df_copy['ID'] == head_ix,'HEAD'].squeeze()\n",
    "#                 if int(head_ix) == 0:\n",
    "#                     dep_rel = 'root'\n",
    "#                 else:\n",
    "#                     dep_rel = df_copy.loc[df_copy['ID'] == head_ix,'DEPREL'].squeeze()\n",
    "#                 paths.append(dep_rel)\n",
    "#                 paths = pd.Series(paths).drop_duplicates().tolist()\n",
    "            \n",
    "#             print(paths)"
   ]
  },
  {
   "cell_type": "code",
   "execution_count": null,
   "id": "92501b77-d287-455f-8967-79762e853404",
   "metadata": {},
   "outputs": [],
   "source": []
  },
  {
   "cell_type": "code",
   "execution_count": null,
   "id": "68e50053-d962-4cb7-9915-1ac033c911d5",
   "metadata": {},
   "outputs": [],
   "source": []
  },
  {
   "cell_type": "code",
   "execution_count": null,
   "id": "04036df9-2324-483d-a394-6e3c238f497b",
   "metadata": {},
   "outputs": [],
   "source": []
  },
  {
   "cell_type": "code",
   "execution_count": null,
   "id": "82958330-50bc-4b55-9d39-7aacf1f357be",
   "metadata": {},
   "outputs": [],
   "source": []
  },
  {
   "cell_type": "code",
   "execution_count": null,
   "id": "551da5b1-2ae8-476b-8302-b0d49244eb8b",
   "metadata": {},
   "outputs": [],
   "source": []
  },
  {
   "cell_type": "code",
   "execution_count": null,
   "id": "a6a93e73-15ec-4dc0-891d-6e35040c2bcf",
   "metadata": {},
   "outputs": [],
   "source": []
  },
  {
   "cell_type": "code",
   "execution_count": null,
   "id": "6534a844-1421-4800-9096-b527ff77eba7",
   "metadata": {
    "tags": []
   },
   "outputs": [],
   "source": []
  },
  {
   "cell_type": "code",
   "execution_count": null,
   "id": "48d5ee1c-94d6-4862-8d97-2a1f9bac2ade",
   "metadata": {},
   "outputs": [],
   "source": []
  },
  {
   "cell_type": "code",
   "execution_count": null,
   "id": "cb346c74-1d65-4a9e-9baf-704a50cb42db",
   "metadata": {
    "tags": []
   },
   "outputs": [],
   "source": []
  },
  {
   "cell_type": "code",
   "execution_count": null,
   "id": "a993158a-02b7-4b99-935b-c07b92b8eecb",
   "metadata": {},
   "outputs": [],
   "source": []
  },
  {
   "cell_type": "code",
   "execution_count": null,
   "id": "f233dadf-9cc4-4b58-9bbd-4d78339f40a1",
   "metadata": {},
   "outputs": [],
   "source": []
  },
  {
   "cell_type": "code",
   "execution_count": null,
   "id": "8d248280-d601-4efd-9580-ca33a865944a",
   "metadata": {},
   "outputs": [],
   "source": []
  },
  {
   "cell_type": "code",
   "execution_count": null,
   "id": "1110c7dc-14b4-4146-a6c8-844a6c3dbf87",
   "metadata": {},
   "outputs": [],
   "source": []
  },
  {
   "cell_type": "code",
   "execution_count": null,
   "id": "a4f73308-fcfb-46c7-ad21-3718afcddd7d",
   "metadata": {},
   "outputs": [],
   "source": []
  },
  {
   "cell_type": "code",
   "execution_count": null,
   "id": "61894ae0-09ed-4472-8c28-8ba5b7eba234",
   "metadata": {},
   "outputs": [],
   "source": []
  },
  {
   "cell_type": "code",
   "execution_count": null,
   "id": "3a990d82-704d-40ff-858b-e7a76309a0ca",
   "metadata": {},
   "outputs": [],
   "source": []
  },
  {
   "cell_type": "code",
   "execution_count": null,
   "id": "7b73681c-a4d9-445d-a71c-bdf5a8fcffdd",
   "metadata": {},
   "outputs": [],
   "source": []
  },
  {
   "cell_type": "code",
   "execution_count": null,
   "id": "2ec6c286-8ffc-499c-9a9a-10b85d68aae5",
   "metadata": {},
   "outputs": [],
   "source": []
  },
  {
   "cell_type": "code",
   "execution_count": null,
   "id": "450c91cb-27b0-43e7-95e0-d7bc32917de1",
   "metadata": {},
   "outputs": [],
   "source": []
  },
  {
   "cell_type": "code",
   "execution_count": null,
   "id": "7c6ffa4c-a277-48c7-8304-5c8b34c6fec8",
   "metadata": {},
   "outputs": [],
   "source": []
  },
  {
   "cell_type": "code",
   "execution_count": null,
   "id": "2b11e626-9bd8-4e66-ab00-891e98938a56",
   "metadata": {},
   "outputs": [],
   "source": []
  },
  {
   "cell_type": "code",
   "execution_count": null,
   "id": "1a2fb05d-3fdc-4f52-bb26-e9fa863196e3",
   "metadata": {},
   "outputs": [],
   "source": []
  },
  {
   "cell_type": "code",
   "execution_count": null,
   "id": "81b18fa1-8813-400f-b161-2d6762723672",
   "metadata": {},
   "outputs": [],
   "source": []
  },
  {
   "cell_type": "code",
   "execution_count": null,
   "id": "0728bebb-fe48-467b-9226-31b259319652",
   "metadata": {},
   "outputs": [],
   "source": []
  },
  {
   "cell_type": "code",
   "execution_count": null,
   "id": "47b254d9-2414-449f-8fa4-c7716528cd8e",
   "metadata": {},
   "outputs": [],
   "source": []
  }
 ],
 "metadata": {
  "kernelspec": {
   "display_name": "Python 3 (ipykernel)",
   "language": "python",
   "name": "python3"
  },
  "language_info": {
   "codemirror_mode": {
    "name": "ipython",
    "version": 3
   },
   "file_extension": ".py",
   "mimetype": "text/x-python",
   "name": "python",
   "nbconvert_exporter": "python",
   "pygments_lexer": "ipython3",
   "version": "3.9.12"
  }
 },
 "nbformat": 4,
 "nbformat_minor": 5
}
