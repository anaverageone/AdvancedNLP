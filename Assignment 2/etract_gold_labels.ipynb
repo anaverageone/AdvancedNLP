{
 "cells": [
  {
   "attachments": {},
   "cell_type": "markdown",
   "metadata": {},
   "source": [
    "# EXTRACT GOLD LABELS"
   ]
  },
  {
   "cell_type": "code",
   "execution_count": 1,
   "metadata": {},
   "outputs": [],
   "source": [
    "import pandas as pd"
   ]
  },
  {
   "cell_type": "code",
   "execution_count": 13,
   "metadata": {},
   "outputs": [],
   "source": [
    "def extract_gold_labels(inputfile):\n",
    "    '''\n",
    "    Function extracts gold labels of the dataset file, assuming the last column has the gold labels.\n",
    "    :param inputfile: string, file path\n",
    "\n",
    "    :return a list of strings\n",
    "    '''\n",
    "    train_df = pd.read_csv(inputfile, sep='\\t', header=0)\n",
    "\n",
    "    #find column names\n",
    "    column_names = list(train_df.columns)\n",
    "\n",
    "    #get gold labels into a list\n",
    "    data_list = train_df[column_names[-1]].values.tolist()\n",
    "\n",
    "    return data_list"
   ]
  },
  {
   "cell_type": "code",
   "execution_count": 14,
   "metadata": {},
   "outputs": [
    {
     "name": "stdout",
     "output_type": "stream",
     "text": [
      "['O', 'O', 'O', 'O', 'O', 'ARG0', 'V', 'ARG1', 'O', 'O', 'O', 'O', 'O', 'O', 'O', 'O', 'O', 'ARGM-LOC', 'O', 'O', 'O', 'O', 'O', 'O', 'O', 'O', 'O', 'O', 'O', 'O', 'O', 'V', 'O', 'O', 'O', 'ARG1', 'O', 'O', 'O', 'O', 'O', 'O', 'O', 'O', 'O', 'O', 'O', 'O', 'O', 'O', 'O', 'O', 'O', 'O', 'O', 'V', 'O', 'O', 'O', 'O', 'O', 'O', 'O', 'O', 'O', 'O', 'O', 'ARG0', 'O', 'O', 'O', 'O', 'ARGM-MOD', 'O', 'V', 'ARGM-GOL', 'ARG1', 'O', 'ARGM-TMP', 'O', 'O', 'O', 'O', 'O', 'O', 'O', 'O', 'O', 'O', 'O', 'O', 'O', 'O', 'O', 'O', 'O', 'ARG1', 'O', 'V', 'O', 'O', 'O', 'O', 'O', 'ARG0', 'V', 'O', 'O', 'O', 'ARG1', 'O', 'O', 'O', 'O', 'O', 'O', 'O', 'O', 'O', 'O', 'O', 'O', 'O', 'O', 'O', 'V', 'O', 'O', 'O', 'O', 'O', 'O', 'O', 'O', 'O', 'O', 'O', 'O', 'O', 'O', 'O', 'ARG0', 'O', 'V', 'O', 'O', 'O', 'ARG1', 'O', 'O', 'O', 'O', 'O', 'O', 'O', 'O', 'O', 'O', 'O', 'O', 'O', 'O', 'O', 'O', 'ARG0', 'V', 'O', 'ARGM-LOC', 'O', 'O', 'O', 'O', 'V', 'O', 'O', 'O', 'O', 'O', 'O', 'O', 'O', 'O', 'O', 'O', 'O', 'O', 'O', 'O', 'O', 'V', 'O', 'O', 'O', 'O', 'O', 'O', 'O', 'O', 'O', 'O', 'O', 'ARG1', 'O', 'O', 'O', 'O', 'V', 'O', 'O', 'ARG0', 'O', 'O', 'O', 'O', 'O', 'O', 'O', 'O', 'ARG1', 'O', 'O', 'V', 'ARG2', 'O', 'O', 'O', 'O', 'O', 'O', 'O', 'O', 'O', 'O', 'O', 'O', 'O', 'O', 'O', 'O', 'O', 'O', 'O', 'O', 'O', 'O', 'O', 'O', 'O', 'O', 'O', 'O', 'O', 'O', 'O', 'ARG1', 'O', 'O', 'O', 'V', 'O', 'O', 'O', 'ARG2', 'O', 'O', 'O', 'O', 'O', 'O', 'O', 'O', 'O', 'O', 'O', 'O', 'O', 'O', 'O', 'O', 'O', 'O', 'O', 'O', 'O', 'O', 'O', 'O', 'O', 'O', 'O', 'O', 'O', 'O', 'O', 'O', 'O', 'O', 'O', 'O', 'O', 'ARGM-ADV', 'ARG1', 'ARGM-MOD', 'V', 'O', 'ARG2', 'O', 'O', 'O', 'O', 'O', 'O', 'O', 'O', 'O', 'O', 'O', 'O', 'O', 'O', 'O', 'O', 'O', 'O', 'O', 'O', 'O', 'O', 'O', 'O', 'O', 'O', 'O', 'O', 'O', 'O', 'O', 'O', 'O', 'O', 'O', 'V', 'O', 'O', 'O', 'O', 'ARG1', 'O', 'O', 'O', 'O', 'O', 'O', 'O', 'O', 'O', 'O', 'O', 'O', 'O', 'O', 'O', 'O', 'O', 'O', 'O', 'O', 'O', 'O', 'O', 'O', 'O', 'O', 'O', 'O', 'O', 'O', 'O', 'ARG0', 'O', 'O', 'ARGM-MNR', 'V', 'O', 'O', 'O', 'ARGM-ADV', 'ARG1', 'O', 'O', 'O', 'O', 'ARGM-TMP', 'O', 'O', 'ARGM-TMP', 'O', 'O', 'O', 'V', 'O', 'O', 'O', 'O', 'O', 'O', 'O', 'O', 'O', 'O', 'O', 'O', 'O', 'V', 'O', 'O', 'O', 'O', 'O', 'O', 'O', 'O', 'O', 'O', 'ARG1', 'O', 'O', 'V', 'O', 'O', 'ARG0', 'O', 'O', 'O', 'O', 'O']\n"
     ]
    }
   ],
   "source": [
    "# inputfile = '../data_C/train_split_small.tsv'\n",
    "# gold_labels = extract_gold_labels(inputfile)\n",
    "# print(gold_labels)"
   ]
  }
 ],
 "metadata": {
  "kernelspec": {
   "display_name": "base",
   "language": "python",
   "name": "python3"
  },
  "language_info": {
   "codemirror_mode": {
    "name": "ipython",
    "version": 3
   },
   "file_extension": ".py",
   "mimetype": "text/x-python",
   "name": "python",
   "nbconvert_exporter": "python",
   "pygments_lexer": "ipython3",
   "version": "3.9.12"
  },
  "orig_nbformat": 4,
  "vscode": {
   "interpreter": {
    "hash": "40d3a090f54c6569ab1632332b64b2c03c39dcf918b08424e98f38b5ae0af88f"
   }
  }
 },
 "nbformat": 4,
 "nbformat_minor": 2
}
