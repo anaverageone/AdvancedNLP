{
 "cells": [
  {
   "cell_type": "code",
   "execution_count": 1,
   "id": "299e2f2a-6ea7-453d-ae2c-0f1e457840b4",
   "metadata": {},
   "outputs": [
    {
     "name": "stdout",
     "output_type": "stream",
     "text": [
      "C:\\Users\\anaverageone\\htlt_env\\Advanced_NLP\n"
     ]
    }
   ],
   "source": [
    "import pandas as pd\n",
    "import numpy as np\n",
    "import os\n",
    "os.chdir(r'C:\\Users\\anaverageone\\htlt_env\\Advanced_NLP')\n",
    "print(os.getcwd())"
   ]
  },
  {
   "cell_type": "code",
   "execution_count": 2,
   "id": "0a76c262-7a2d-47e9-9a91-8d6745ab6115",
   "metadata": {},
   "outputs": [
    {
     "name": "stderr",
     "output_type": "stream",
     "text": [
      "C:\\Users\\anaverageone\\AppData\\Local\\Temp\\ipykernel_13904\\1232287190.py:4: ParserWarning: Falling back to the 'python' engine because ord(quotechar) > 127, meaning the quotechar is larger than one byte, and the 'c' engine does not support such quotechars; you can avoid this warning by specifying engine='python'.\n",
      "  train_df, test_df = pd.read_csv(train_path, sep='\\t', encoding='utf-8',quotechar='№'), pd.read_csv(test_path, sep='\\t', encoding='utf-8',quotechar='№')\n",
      "C:\\Users\\anaverageone\\AppData\\Local\\Temp\\ipykernel_13904\\1232287190.py:4: ParserWarning: Falling back to the 'python' engine because ord(quotechar) > 127, meaning the quotechar is larger than one byte, and the 'c' engine does not support such quotechars; you can avoid this warning by specifying engine='python'.\n",
      "  train_df, test_df = pd.read_csv(train_path, sep='\\t', encoding='utf-8',quotechar='№'), pd.read_csv(test_path, sep='\\t', encoding='utf-8',quotechar='№')\n"
     ]
    }
   ],
   "source": [
    "# train_path = 'data/train_split.tsv'\n",
    "# header_split_df = ['Copy_ID','Sent_ID','ID','FORM','LEMMA','UPOS','XPOS','FEATS','HEAD','DEPREL','DEPS','MISC','UP:PRED','UP:ARGHEADS']\n",
    "train_path, test_path = 'data/train_split.tsv', 'data/test_split.tsv'\n",
    "train_df, test_df = pd.read_csv(train_path, sep='\\t', encoding='utf-8',quotechar='№'), pd.read_csv(test_path, sep='\\t', encoding='utf-8',quotechar='№')"
   ]
  },
  {
   "cell_type": "code",
   "execution_count": 7,
   "id": "996fe34d-1430-4ce6-b50d-853d6f934fb0",
   "metadata": {},
   "outputs": [],
   "source": [
    "train_df, test_df = train_df.astype({'Sent_ID':'int'}), test_df.astype({'Sent_ID':'int'})\n",
    "train_df, test_df = train_df.astype({'Copy_ID':'int'}), test_df.astype({'Copy_ID':'int'})\n",
    "train_df, test_df = train_df.astype({'ID':'int'}), test_df.astype({'ID':'int'})\n",
    "train_df, test_df = train_df.astype({'HEAD':'int'}), test_df.astype({'HEAD':'int'})"
   ]
  },
  {
   "cell_type": "code",
   "execution_count": 22,
   "id": "322289d4-ed90-45c6-8f17-df88cb2faebe",
   "metadata": {},
   "outputs": [],
   "source": [
    "train = train_df[:100]\n",
    "test = test_df[:50]"
   ]
  },
  {
   "cell_type": "code",
   "execution_count": 8,
   "id": "c533054d-93d9-4027-8efc-669ba94f8bb2",
   "metadata": {},
   "outputs": [
    {
     "name": "stdout",
     "output_type": "stream",
     "text": [
      "<class 'str'>\n"
     ]
    }
   ],
   "source": [
    "parent_dep_rel = test.loc[test['ID'] == 4, 'DEPREL'].values[0]\n",
    "print(type(parent_dep_rel))"
   ]
  },
  {
   "cell_type": "code",
   "execution_count": 14,
   "id": "43b984b8-3f6f-4a6c-a438-cfdb3f571619",
   "metadata": {},
   "outputs": [
    {
     "name": "stdout",
     "output_type": "stream",
     "text": [
      "[{'PRED_HEAD': 'killed_0'}, {'PRED_HEAD': 'killed_Al'}, {'PRED_HEAD': 'killed_Al'}, {'PRED_HEAD': 'killed_Al'}, {'PRED_HEAD': 'killed_forces'}, {'PRED_HEAD': 'killed_killed'}, {'PRED_HEAD': 'killed_Al'}, {'PRED_HEAD': 'killed_killed'}, {'PRED_HEAD': 'killed_Shaikh'}, {'PRED_HEAD': 'killed_Shaikh'}, {'PRED_HEAD': 'killed_Shaikh'}, {'PRED_HEAD': 'killed_Shaikh'}, {'PRED_HEAD': 'killed_Shaikh'}, {'PRED_HEAD': 'killed_preacher'}, {'PRED_HEAD': 'killed_Shaikh'}, {'PRED_HEAD': 'killed_mosque'}, {'PRED_HEAD': 'killed_mosque'}, {'PRED_HEAD': 'killed_killed'}, {'PRED_HEAD': 'killed_town'}, {'PRED_HEAD': 'killed_town'}, {'PRED_HEAD': 'killed_mosque'}, {'PRED_HEAD': 'killed_Qaim'}, {'PRED_HEAD': 'killed_town'}, {'PRED_HEAD': 'killed_town'}, {'PRED_HEAD': 'killed_border'}, {'PRED_HEAD': 'killed_border'}, {'PRED_HEAD': 'killed_border'}, {'PRED_HEAD': 'killed_town'}, {'PRED_HEAD': 'killed_Al'}, {'PRED_HEAD': 'killing_causing'}, {'PRED_HEAD': 'killing_killing'}, {'PRED_HEAD': 'killing_causing'}, {'PRED_HEAD': 'killing_cleric'}, {'PRED_HEAD': 'killing_cleric'}, {'PRED_HEAD': 'killing_cleric'}, {'PRED_HEAD': 'killing_killing'}, {'PRED_HEAD': 'killing_causing'}, {'PRED_HEAD': 'killing_causing'}, {'PRED_HEAD': 'killing_0'}, {'PRED_HEAD': 'killing_causing'}, {'PRED_HEAD': 'killing_causing'}, {'PRED_HEAD': 'killing_years'}, {'PRED_HEAD': 'killing_causing'}, {'PRED_HEAD': 'killing_come'}, {'PRED_HEAD': 'killing_years'}, {'PRED_HEAD': 'killing_causing'}, {'PRED_HEAD': 'killing_causing'}, {'PRED_HEAD': '0_0'}, {'PRED_HEAD': '0_killing'}, {'PRED_HEAD': '0_0'}]\n"
     ]
    }
   ],
   "source": [
    "features_dict_list = []\n",
    "copy_id_list = train['Copy_ID'].unique()\n",
    "    \n",
    "for num in copy_id_list:\n",
    "    df_copy = train.loc[train['Copy_ID'] == num]\n",
    "    max_wds_count = df_copy['ID'].max()\n",
    "    pred_item = df_copy['ID'][df_copy['UP:PRED'].str.len() > 2]\n",
    "    # pred_id = None\n",
    "    if not pred_item.empty:\n",
    "        pred_id = pred_item.values[0]\n",
    "        pred_form = df_copy.loc[df_copy['ID'] == pred_id,'FORM'].values[0]\n",
    "    else:\n",
    "        pred_form = 0\n",
    "\n",
    "    for i in range(max_wds_count):\n",
    "        features_dict = {}\n",
    "        path = []\n",
    "        df_row = df_copy.iloc[i]\n",
    "        row_head = df_row['HEAD']\n",
    "        row_dep_rel = df_row['DEPREL']\n",
    "        path.append(row_dep_rel)\n",
    "        if row_head == 0:\n",
    "            head_form = 0\n",
    "        else:\n",
    "            head_rows = df_copy.loc[df_copy['ID'] == row_head,'FORM']\n",
    "            if not head_rows.empty:\n",
    "                head_form = head_rows.values[0] \n",
    "            else:\n",
    "                head_form = 0   \n",
    "        features_dict['PRED_HEAD']= f\"{pred_form}_{head_form}\"\n",
    "        \n",
    "#         while row_head != 0:\n",
    "#             parent_row = df_copy.loc[df_copy['ID'] == row_head,'HEAD']   \n",
    "#             if not parent_row.empty:\n",
    "#                 parent_head = parent_row.values[0]\n",
    "#                 parent_dep_rel = df_copy.loc[df_copy['ID'] == parent_head, 'DEPREL'].values[0]\n",
    "                \n",
    "#             else:\n",
    "#                 parent_dep_rel = 0\n",
    "#             path.append(parent_dep_rel)   \n",
    "#             # path = list(dict.fromkeys(path))\n",
    "#         features_dict['PATH']= path\n",
    "\n",
    "        features_dict_list.append(features_dict)\n",
    "\n",
    "print(features_dict_list)"
   ]
  },
  {
   "cell_type": "code",
   "execution_count": 49,
   "id": "ed7f136a-ca0c-4acd-9d07-2335133b1fb5",
   "metadata": {},
   "outputs": [
    {
     "name": "stdout",
     "output_type": "stream",
     "text": [
      "1 {'PATH': ['root']}\n",
      "2 {'PATH': ['punct', 'root']}\n",
      "3 {'PATH': ['flat', 'root']}\n",
      "4 {'PATH': ['punct', 'root']}\n",
      "5 {'PATH': ['amod', 'parataxis', 'root']}\n",
      "6 {'PATH': ['nsubj', 'root']}\n",
      "7 {'PATH': ['parataxis', 'root']}\n",
      "8 {'PATH': ['obj', 'root']}\n",
      "9 {'PATH': ['flat', 'parataxis', 'root']}\n",
      "10 {'PATH': ['flat', 'parataxis', 'root']}\n",
      "11 {'PATH': ['punct', 'parataxis', 'root']}\n",
      "12 {'PATH': ['flat', 'parataxis', 'root']}\n",
      "13 {'PATH': ['punct', 'parataxis', 'root']}\n",
      "14 {'PATH': ['det', 'obj', 'root']}\n",
      "15 {'PATH': ['appos', 'parataxis', 'root']}\n",
      "16 {'PATH': ['case', 'parataxis', 'root']}\n",
      "17 {'PATH': ['det', 'parataxis', 'root']}\n",
      "18 {'PATH': ['obl', 'root']}\n",
      "19 {'PATH': ['case', 'obl', 'root']}\n",
      "20 {'PATH': ['det', 'obl', 'root']}\n",
      "21 {'PATH': ['nmod', 'parataxis', 'root']}\n",
      "22 {'PATH': ['case', 'nmod', 'parataxis', 'root']}\n",
      "23 {'PATH': ['nmod', 'obl', 'root']}\n",
      "24 {'PATH': ['punct', 'obl', 'root']}\n",
      "25 {'PATH': ['case', 'nmod', 'parataxis', 'root']}\n",
      "26 {'PATH': ['det', 'nmod', 'parataxis', 'root']}\n",
      "27 {'PATH': ['amod', 'nmod', 'parataxis', 'root']}\n",
      "28 {'PATH': ['nmod', 'obl', 'root']}\n",
      "29 {'PATH': ['punct', 'root']}\n",
      "1 {'PATH': ['punct', 'root']}\n",
      "2 {'PATH': ['det', 'root']}\n",
      "3 {'PATH': ['nsubj', 'root']}\n",
      "4 {'PATH': ['case', 'nsubj', 'root']}\n",
      "5 {'PATH': ['det', 'nsubj', 'root']}\n",
      "6 {'PATH': ['amod', 'nsubj', 'root']}\n",
      "7 {'PATH': ['nmod', 'root']}\n",
      "8 {'PATH': ['aux', 'root']}\n",
      "9 {'PATH': ['aux', 'root']}\n",
      "10 {'PATH': ['root']}\n",
      "11 {'PATH': ['iobj', 'root']}\n",
      "12 {'PATH': ['obj', 'root']}\n",
      "13 {'PATH': ['case', 'root']}\n",
      "14 {'PATH': ['obl', 'root']}\n",
      "15 {'PATH': ['mark', 'obl', 'root']}\n",
      "16 {'PATH': ['acl', 'root']}\n",
      "17 {'PATH': ['punct', 'root']}\n",
      "18 {'PATH': ['punct', 'root']}\n",
      "1 {'PATH': ['punct', 'root']}\n",
      "2 {'PATH': ['det', 'root']}\n",
      "3 {'PATH': ['nsubj', 'root']}\n",
      "4 {'PATH': ['case', 'nsubj', 'root']}\n",
      "5 {'PATH': ['det', 'nsubj', 'root']}\n",
      "6 {'PATH': ['amod', 'nsubj', 'root']}\n",
      "7 {'PATH': ['nmod', 'root']}\n",
      "8 {'PATH': ['aux', 'root']}\n",
      "9 {'PATH': ['aux', 'root']}\n",
      "10 {'PATH': ['root']}\n",
      "11 {'PATH': ['iobj', 'root']}\n",
      "12 {'PATH': ['obj', 'root']}\n",
      "13 {'PATH': ['case', 'root']}\n",
      "14 {'PATH': ['obl', 'root']}\n",
      "15 {'PATH': ['mark', 'obl', 'root']}\n",
      "16 {'PATH': ['acl', 'root']}\n",
      "17 {'PATH': ['punct', 'root']}\n",
      "18 {'PATH': ['punct', 'root']}\n",
      "1 {'PATH': ['punct', 'root']}\n",
      "2 {'PATH': ['det', 'root']}\n",
      "3 {'PATH': ['nsubj', 'root']}\n",
      "4 {'PATH': ['case', 'nsubj', 'root']}\n",
      "5 {'PATH': ['det', 'nsubj', 'root']}\n",
      "6 {'PATH': ['amod', 'nsubj', 'root']}\n",
      "7 {'PATH': ['nmod', 'root']}\n",
      "8 {'PATH': ['aux', 'root']}\n",
      "9 {'PATH': ['aux', 'root']}\n",
      "10 {'PATH': ['root']}\n",
      "11 {'PATH': ['iobj', 'root']}\n",
      "12 {'PATH': ['obj', 'root']}\n",
      "13 {'PATH': ['case', 'root']}\n",
      "14 {'PATH': ['obl', 'root']}\n",
      "15 {'PATH': ['mark', 'obl', 'root']}\n",
      "16 {'PATH': ['acl', 'root']}\n",
      "17 {'PATH': ['punct', 'root']}\n",
      "18 {'PATH': ['punct', 'root']}\n",
      "1 {'PATH': ['punct', 'root']}\n",
      "2 {'PATH': ['det', 'root']}\n",
      "3 {'PATH': ['nsubj', 'root']}\n",
      "4 {'PATH': ['case', 'nsubj', 'root']}\n",
      "5 {'PATH': ['det', 'nsubj', 'root']}\n",
      "6 {'PATH': ['amod', 'nsubj', 'root']}\n",
      "7 {'PATH': ['nmod', 'root']}\n",
      "8 {'PATH': ['aux', 'root']}\n",
      "9 {'PATH': ['aux', 'root']}\n",
      "10 {'PATH': ['root']}\n",
      "11 {'PATH': ['iobj', 'root']}\n",
      "12 {'PATH': ['obj', 'root']}\n",
      "13 {'PATH': ['case', 'root']}\n",
      "14 {'PATH': ['obl', 'root']}\n",
      "15 {'PATH': ['mark', 'obl', 'root']}\n",
      "16 {'PATH': ['acl', 'root']}\n",
      "17 {'PATH': ['punct', 'root']}\n"
     ]
    }
   ],
   "source": [
    "features_dict_list = []\n",
    "copy_id_list = train['Copy_ID'].unique()\n",
    "    \n",
    "for num in copy_id_list:\n",
    "\n",
    "    df_copy = train.loc[train['Copy_ID'] == num]\n",
    "    max_wds_count = df_copy['ID'].max()\n",
    "\n",
    "    for i in range(max_wds_count):\n",
    "        features_dict = {}\n",
    "        path = []\n",
    "        df_row = df_copy.iloc[i]\n",
    "        row_head = df_row['HEAD']\n",
    "        row_dep_rel = df_row['DEPREL']\n",
    "        # row_dep_rel = \":\".join(list(filter(lambda x: x.isalpha(), df_row['DEPS'].split(\":\"))\n",
    "        path.append(row_dep_rel) \n",
    "        \n",
    "        while (row_head != 0).any():\n",
    "            parent_row = df_copy.loc[df_copy['ID'] == int(row_head),'HEAD']   \n",
    "            if not parent_row.empty:\n",
    "                parent_head = parent_row.values[0]\n",
    "                parent_dep_rel_values = df_copy.loc[df_copy['ID'] == parent_head, 'DEPREL'].values\n",
    "                if parent_dep_rel_values.size > 0:\n",
    "                    parent_dep_rel = parent_dep_rel_values[0]\n",
    "                    # parent_dep_rel = \":\".join(list(filter(lambda x: x.isalpha(), parent_dep_rel_values[0].split(\":\"))\n",
    "                    path.append(parent_dep_rel) \n",
    "                    row_head = df_copy.loc[df_copy['ID'] == parent_head,'HEAD']\n",
    "                else:\n",
    "                    row_head = pd.Series([0])\n",
    "        if 'root' not in path:\n",
    "            path.append('root')\n",
    "        features_dict['PATH']= path\n",
    "        print(i+1 ,features_dict)\n",
    "        \n",
    "        \n",
    "        features_dict_list.append(features_dict)\n",
    "       \n"
   ]
  },
  {
   "cell_type": "code",
   "execution_count": 45,
   "id": "9b9e3fed-e9ac-4ebe-8aa0-b0742f15ef96",
   "metadata": {},
   "outputs": [
    {
     "ename": "SyntaxError",
     "evalue": "invalid syntax (196453977.py, line 15)",
     "output_type": "error",
     "traceback": [
      "\u001b[1;36m  Input \u001b[1;32mIn [45]\u001b[1;36m\u001b[0m\n\u001b[1;33m    path.append(row_deps)\u001b[0m\n\u001b[1;37m    ^\u001b[0m\n\u001b[1;31mSyntaxError\u001b[0m\u001b[1;31m:\u001b[0m invalid syntax\n"
     ]
    }
   ],
   "source": [
    "features_dict_list = []\n",
    "copy_id_list = train['Copy_ID'].unique()\n",
    "    \n",
    "for num in copy_id_list:\n",
    "    df_copy = train.loc[train['Copy_ID'] == num]\n",
    "    max_wds_count = df_copy['ID'].max()\n",
    "\n",
    "    for i in range(max_wds_count):\n",
    "        features_dict = {}\n",
    "        path = []\n",
    "        df_row = df_copy.iloc[i]\n",
    "        row_head = df_row['HEAD']\n",
    "        row_dep_rel = df_row['DEPS']\n",
    "        row_deps = \":\".join(list(filter(lambda x: x.isalpha(), row_dep_rel.split(\":\"))\n",
    "        path.append(row_deps) \n",
    "        \n",
    "        while (row_head != 0).any():\n",
    "            parent_row = df_copy.loc[df_copy['ID'] == int(row_head),'HEAD']   \n",
    "            if not parent_row.empty:\n",
    "                parent_head = parent_row.values[0]\n",
    "                parent_dep_rel_values = df_copy.loc[df_copy['ID'] == parent_head, 'DEPS'].values\n",
    "                if parent_dep_rel_values.size > 0:\n",
    "                    parent_dep_rel = parent_dep_rel_values[0]\n",
    "                    parent_deps = \":\".join(list(filter(lambda x: x.isalpha(), parent_dep_rel.split(\":\"))\n",
    "                    path.append(parent_deps) \n",
    "\n",
    "                    row_head = df_copy.loc[df_copy['ID'] == parent_head,'HEAD']\n",
    "                else:\n",
    "                    row_head = pd.Series([0])\n",
    "                    \n",
    "        if 'root' not in path:\n",
    "            path.append('root')\n",
    "    \n",
    "        features_dict['PATH']= path\n",
    "        features_dict_list.append(features_dict)\n",
    "       \n",
    "print(features_dict_list)"
   ]
  },
  {
   "cell_type": "code",
   "execution_count": null,
   "id": "b6cae2b6-39ae-4a89-86d1-55847c27522f",
   "metadata": {},
   "outputs": [],
   "source": [
    "#         if int(head_ix) == 0:\n",
    "#             head_form = '0'\n",
    "#         else:\n",
    "#             head_form = df_copy.loc[(df_copy['ID'] == head_ix),'FORM'].squeeze()\n",
    "                \n",
    "#             # predicate of current phrase\n",
    "#             up_pred = df_copy.loc[(df_copy['UP:PRED'] != '_'),'FORM'].squeeze()\n",
    "\n",
    "#             # Feature - predicate & head combination\n",
    "#             feature_dict['PRED_HEAD']= up_pred + '_' + head_form\n",
    "            \n",
    "#             # Feature - Path from constituent to root\n",
    "#             while int(head_ix) != 0:\n",
    "#                 # head_ix = df_copy.loc[df_copy['ID'] == ,'HEAD'].squeeze()\n",
    "#                 head_ix = df_copy.loc[df_copy['ID'] == int(head_ix), 'HEAD']\n",
    "#                 if int(head_ix) == 0:\n",
    "#                     dep_rel = 'root'\n",
    "#                 else:\n",
    "#                     dep_rel = df_copy.loc[df_copy['ID'] == int(head_ix),'DEPREL'].squeeze()\n",
    "#                 paths.append(dep_rel)\n",
    "#                 paths = list(dict.fromkeys(paths))\n",
    "            \n",
    "#             features_dict_list.append(features_dict) \n",
    "        \n",
    "#     return features_dict_list"
   ]
  },
  {
   "cell_type": "code",
   "execution_count": null,
   "id": "698a9c4c-bdc7-42af-b47c-d5b0b5746ef4",
   "metadata": {},
   "outputs": [],
   "source": []
  },
  {
   "cell_type": "code",
   "execution_count": null,
   "id": "b49fd6a1-111f-4468-bf2a-03bec60bb660",
   "metadata": {},
   "outputs": [],
   "source": []
  },
  {
   "cell_type": "code",
   "execution_count": null,
   "id": "84990b9f-c8dc-44c2-9476-f3ecef948f9e",
   "metadata": {},
   "outputs": [],
   "source": []
  },
  {
   "cell_type": "code",
   "execution_count": null,
   "id": "8da93f48-961d-454b-8c21-7aeb9ae39f26",
   "metadata": {},
   "outputs": [],
   "source": []
  },
  {
   "cell_type": "code",
   "execution_count": null,
   "id": "e790ecb3-2c2d-4ec9-a8ab-5458f0ba8034",
   "metadata": {},
   "outputs": [],
   "source": []
  },
  {
   "cell_type": "code",
   "execution_count": null,
   "id": "c7ab7ef6-b0ba-468e-9455-2d3209dfbff4",
   "metadata": {},
   "outputs": [],
   "source": []
  },
  {
   "cell_type": "code",
   "execution_count": null,
   "id": "75352bd5-a099-4b90-8ffa-9b30d5527bcb",
   "metadata": {},
   "outputs": [],
   "source": []
  },
  {
   "cell_type": "code",
   "execution_count": null,
   "id": "4242bfb6-da0c-4e56-9c2f-6db7984a3b9a",
   "metadata": {},
   "outputs": [],
   "source": []
  },
  {
   "cell_type": "code",
   "execution_count": null,
   "id": "f53796c5-cff1-4e88-ba8b-4d5dce0e9244",
   "metadata": {},
   "outputs": [],
   "source": []
  },
  {
   "cell_type": "code",
   "execution_count": null,
   "id": "1494b463-6307-4dc5-9b6d-fddcbedd047d",
   "metadata": {},
   "outputs": [],
   "source": []
  },
  {
   "cell_type": "code",
   "execution_count": null,
   "id": "cd42372f-fe1f-4b3c-bf25-7469f532bc49",
   "metadata": {},
   "outputs": [],
   "source": []
  },
  {
   "cell_type": "code",
   "execution_count": null,
   "id": "0dca92ab-6b8c-4c5e-a690-d6482ca271d8",
   "metadata": {},
   "outputs": [],
   "source": []
  },
  {
   "cell_type": "code",
   "execution_count": null,
   "id": "a3bde028-d8d7-4910-804b-19eaa53230ff",
   "metadata": {},
   "outputs": [],
   "source": []
  }
 ],
 "metadata": {
  "kernelspec": {
   "display_name": "Python 3 (ipykernel)",
   "language": "python",
   "name": "python3"
  },
  "language_info": {
   "codemirror_mode": {
    "name": "ipython",
    "version": 3
   },
   "file_extension": ".py",
   "mimetype": "text/x-python",
   "name": "python",
   "nbconvert_exporter": "python",
   "pygments_lexer": "ipython3",
   "version": "3.9.12"
  }
 },
 "nbformat": 4,
 "nbformat_minor": 5
}
